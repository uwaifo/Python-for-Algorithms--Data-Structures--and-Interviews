{
 "cells": [
  {
   "cell_type": "markdown",
   "metadata": {},
   "source": [
    "# Implement a Stack \n",
    "\n",
    "A very common interview question is to begin by just implementing a Stack! Try your best to implement your own stack!\n",
    "\n",
    "It should have the methods:\n",
    "\n",
    "* Check if its empty\n",
    "* Push a new item\n",
    "* Pop an item\n",
    "* Peek at the top item\n",
    "* Return the size"
   ]
  },
  {
   "cell_type": "code",
   "execution_count": 1,
   "metadata": {},
   "outputs": [],
   "source": [
    "class Stack(object):\n",
    "    \n",
    "    \n",
    "    # Fill out the Stack Methods here\n",
    "    def __init__(self):\n",
    "        self.stack_items = []\n",
    "\n",
    "    def is_empty(self):\n",
    "        return self.stack_items == []\n",
    "\n",
    "    def push(self,item):\n",
    "        self.stack_items.insert(0,item)\n",
    "        return self.peek()\n",
    "    \n",
    "    def peek(self):\n",
    "        return self.stack_items[0]\n",
    "    def peek_buttom(self):\n",
    "        return self.stack_items[len(self.stack_items) -1]\n",
    "\n",
    "    def pop(self):\n",
    "        self.stack_items.pop()\n",
    "    def size(self):\n",
    "        return len(self.stack_items)\n"
   ]
  },
  {
   "cell_type": "code",
   "execution_count": null,
   "metadata": {},
   "outputs": [],
   "source": []
  },
  {
   "cell_type": "code",
   "execution_count": null,
   "metadata": {},
   "outputs": [],
   "source": []
  }
 ],
 "metadata": {
  "kernelspec": {
   "display_name": "Python 3",
   "language": "python",
   "name": "python3"
  },
  "language_info": {
   "codemirror_mode": {
    "name": "ipython",
    "version": 3
   },
   "file_extension": ".py",
   "mimetype": "text/x-python",
   "name": "python",
   "nbconvert_exporter": "python",
   "pygments_lexer": "ipython3",
   "version": "3.7.4"
  }
 },
 "nbformat": 4,
 "nbformat_minor": 1
}
